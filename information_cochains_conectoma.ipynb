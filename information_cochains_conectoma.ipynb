{
 "cells": [
  {
   "cell_type": "code",
   "execution_count": null,
   "metadata": {},
   "outputs": [],
   "source": [
    "import numpy as np\n",
    "import scipy.io\n",
    "from itertools import combinations, product\n",
    "from scipy.special import comb\n",
    "import pickle as pkl\n",
    "import os\n",
    "import matplotlib.pyplot as plt"
   ]
  },
  {
   "cell_type": "code",
   "execution_count": null,
   "metadata": {},
   "outputs": [],
   "source": [
    "def import_data(patient, d=3):\n",
    "    '''...'''\n",
    "    data = scipy.io.loadmat(f'/Users/anibal/Google Drive/Information cochains/O-info/OinfoSinfo/OinfoCopulasN{d+1}/Oinfop{patient}.mat')\n",
    "\n",
    "    del data['__header__']\n",
    "    del data['__version__']\n",
    "    del data['__globals__']\n",
    "\n",
    "    data['TC']  = (data['Sinfo'] + data['Oinfo'])/2\n",
    "    data['DTC'] = (data['Sinfo'] - data['Oinfo'])/2\n",
    "    \n",
    "    return data"
   ]
  },
  {
   "cell_type": "markdown",
   "metadata": {},
   "source": [
    "## Structural connectivity\n",
    "\n",
    "$$SC(i,j) = average\\ over\\ patients\\ of\\ sc(i,j)$$"
   ]
  },
  {
   "cell_type": "code",
   "execution_count": null,
   "metadata": {},
   "outputs": [],
   "source": [
    "def construct_edge_weights():\n",
    "    '''...'''\n",
    "    conn = scipy.io.loadmat(f'/Users/anibal/Google Drive/Information cochains/connectome/sc_norm_20rois.mat')\n",
    "    SC = conn['sc'].sum(axis=2) / 161\n",
    "\n",
    "    edge_weights = {}\n",
    "    for i in range(20):\n",
    "        for j in range(i+1,20):\n",
    "            edge_weights[(i+1,j+1)] = SC[i,j]\n",
    "            \n",
    "    return edge_weights"
   ]
  },
  {
   "cell_type": "code",
   "execution_count": null,
   "metadata": {},
   "outputs": [],
   "source": [
    "def construct_simplex_weights(d, r=20):\n",
    "    '''...'''\n",
    "    edge_weights = construct_edge_weights()\n",
    "\n",
    "    simplex_weights = {}\n",
    "    for simplex in tuple(combinations(range(1,r+1), d+1)):\n",
    "        simplex_weights[simplex] = min(edge_weights[edge] \n",
    "                                        for edge in combinations(simplex,2))\n",
    "\n",
    "    return simplex_weights"
   ]
  },
  {
   "cell_type": "code",
   "execution_count": null,
   "metadata": {},
   "outputs": [],
   "source": [
    "def construct_boundary(d, r=19):\n",
    "    '''...'''\n",
    "    domain_basis = tuple(combinations(range(r+1), d+1))\n",
    "    target_basis = tuple(combinations(range(r+1), d))\n",
    "    target_basis_ix = {tuple(v): index for index, v in enumerate(target_basis)}\n",
    "    N = comb(r+1, d+1, exact=True)\n",
    "    M = comb(r+1, d, exact=True)\n",
    "    D = scipy.sparse.csr_matrix((M, N), dtype=np.int8)\n",
    "    for j in range(d+1):\n",
    "        jth_faces_ix = [\n",
    "                target_basis_ix[tuple(np.concatenate((l[:j], l[j+1:])))]\n",
    "                for l in domain_basis\n",
    "                ]\n",
    "        D += scipy.sparse.csr_matrix ( \n",
    "                        ([(-1)**j]*N, (jth_faces_ix, range(N))), \n",
    "                        shape=(M, N), dtype=np.int8\n",
    "                        )\n",
    "    return D\n",
    "\n",
    "def construct_coboundary(d, r=19):\n",
    "    '''...'''\n",
    "    return construct_boundary(d+1,r).T"
   ]
  },
  {
   "cell_type": "code",
   "execution_count": null,
   "metadata": {},
   "outputs": [],
   "source": [
    "def construct_weights(d, inverse=False):\n",
    "    simplex_weights = construct_simplex_weights(d)\n",
    "    num_rows = comb(20, d+1, exact=True)\n",
    "    weights = np.array(list(simplex_weights.values()), dtype=np.float)\n",
    "    \n",
    "    if inverse:\n",
    "        weights = np.reciprocal(weights)\n",
    "    \n",
    "    weights = np.reshape(weights, (num_rows,))\n",
    "    \n",
    "    return scipy.sparse.csr_matrix (( \n",
    "                         weights, (range(num_rows), range(num_rows))), \n",
    "                         shape=(num_rows, num_rows), dtype=float\n",
    "                         )"
   ]
  },
  {
   "cell_type": "markdown",
   "metadata": {},
   "source": [
    "## Laplacian\n",
    "\n",
    "$L^{up}_i = W_i^{-1}\\, B_{i+1}\\, W_{i+1}\\, B_i^T$\n",
    "\n",
    "$L^{down}_i = B_{i-1}^T\\, W_{i-1}^{-1}\\, B_i\\, W_i$\n",
    "\n",
    "$L = L^{up} + L^{down}$"
   ]
  },
  {
   "cell_type": "code",
   "execution_count": null,
   "metadata": {},
   "outputs": [],
   "source": [
    "print(' d=3', comb(20,4),\n",
    "      '\\n d=4', comb(20,5),\n",
    "      '\\n d=5', comb(20,6) )"
   ]
  },
  {
   "cell_type": "code",
   "execution_count": null,
   "metadata": {},
   "outputs": [],
   "source": [
    "def construct_up_laplacian(d, inverted_weights=False):\n",
    "    '''Lu = WIa Bp Wp BTa'''\n",
    "    BTa = construct_coboundary(d)\n",
    "    Wp = construct_weights(d+1, inverse=False^inverted_weights)\n",
    "    Bp = construct_boundary(d+1)\n",
    "    WIa = construct_weights(d, inverse=True^inverted_weights)\n",
    "    Lu = np.multiply(WIa, np.multiply(Bp ,np.multiply(Wp, BTa)))\n",
    "    \n",
    "    return Lu\n",
    "\n",
    "def construct_down_laplacian(d, inverted_weights=False):\n",
    "    '''Ld = BTm WIm Ba Wa'''\n",
    "    Wa = construct_weights(d, inverse=False^inverted_weights)\n",
    "    Ba = construct_boundary(d)\n",
    "    WIm = construct_weights(d-1, inverse=True^inverted_weights)\n",
    "    BTm = construct_coboundary(d-1)\n",
    "    Ld = np.multiply(BTm, np.multiply(WIm, np.multiply(Ba, Wa)))\n",
    "    \n",
    "    return Ld\n",
    "\n",
    "def construct_laplacian(d, inverted_weights=False):\n",
    "    '''...'''\n",
    "    Ld = construct_down_laplacian(d, inverted_weights)\n",
    "    Lu = construct_up_laplacian(d, inverted_weights)\n",
    "\n",
    "    return Ld + Lu"
   ]
  },
  {
   "cell_type": "markdown",
   "metadata": {},
   "source": [
    "## Main"
   ]
  },
  {
   "cell_type": "code",
   "execution_count": null,
   "metadata": {
    "scrolled": true
   },
   "outputs": [],
   "source": [
    "patients = [f'00{i}' for i in range(1,10) ] \\\n",
    "         + [f'0{i}' for i in range(10,100)] \\\n",
    "         + [f'{i}' for i in range(100,165)]\n",
    "\n",
    "for d in range(2,3):\n",
    "    # computing matrix of eigenvectors and storing eigenvalues\n",
    "    os.mkdir(f'{d}eigendata_sc')\n",
    "    L = construct_laplacian(d)\n",
    "    eigens = np.linalg.eig(L.todense())\n",
    "    np.save(f'{d}eigendata_sc/eigenvalues.npy', eigens[0])\n",
    "    # decomposing each O-information cochain on the eigenbasis\n",
    "    for patient in patients:    \n",
    "        data = import_data(patient, d)\n",
    "        cochain = data['Oinfo']\n",
    "        x = np.linalg.solve(eigens[1], cochain)\n",
    "        np.save(f'{d}eigendata_sc/{d}harmonic{patient}.npy', x) #save"
   ]
  }
 ],
 "metadata": {
  "kernelspec": {
   "display_name": "Python 3",
   "language": "python",
   "name": "python3"
  },
  "language_info": {
   "codemirror_mode": {
    "name": "ipython",
    "version": 3
   },
   "file_extension": ".py",
   "mimetype": "text/x-python",
   "name": "python",
   "nbconvert_exporter": "python",
   "pygments_lexer": "ipython3",
   "version": "3.7.3"
  }
 },
 "nbformat": 4,
 "nbformat_minor": 2
}
