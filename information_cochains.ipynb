{
 "cells": [
  {
   "cell_type": "code",
   "execution_count": 1,
   "metadata": {},
   "outputs": [],
   "source": [
    "import numpy as np\n",
    "import scipy.io\n",
    "from itertools import combinations\n",
    "from scipy.special import comb\n",
    "import pickle as pkl\n",
    "import os"
   ]
  },
  {
   "cell_type": "code",
   "execution_count": 2,
   "metadata": {},
   "outputs": [],
   "source": [
    "def import_data(patient, d=3):\n",
    "    '''...'''\n",
    "    data = scipy.io.loadmat(f'/Users/anibal/Google Drive/Information cochains/O-info/OinfoSinfo/OinfoCopulasN{d+1}/Oinfop{patient}.mat')\n",
    "\n",
    "    del data['__header__']\n",
    "    del data['__version__']\n",
    "    del data['__globals__']\n",
    "\n",
    "    data['TC']  = (data['Sinfo'] + data['Oinfo'])/2\n",
    "    data['DTC'] = (data['Sinfo'] - data['Oinfo'])/2\n",
    "    \n",
    "    return data"
   ]
  },
  {
   "cell_type": "code",
   "execution_count": 3,
   "metadata": {},
   "outputs": [],
   "source": [
    "def construct_boundary(d, r=19):\n",
    "    '''...'''\n",
    "    domain_basis = tuple(combinations(range(r+1), d+1))\n",
    "    target_basis = tuple(combinations(range(r+1), d))\n",
    "    target_basis_ix = {tuple(v): index for index, v in enumerate(target_basis)}\n",
    "    N = comb(r+1, d+1, exact=True)\n",
    "    M = comb(r+1, d, exact=True)\n",
    "    D = scipy.sparse.csr_matrix((M, N), dtype=np.int8)\n",
    "    for j in range(d+1):\n",
    "        jth_faces_ix = [\n",
    "                target_basis_ix[tuple(np.concatenate((l[:j], l[j+1:])))]\n",
    "                for l in domain_basis\n",
    "                ]\n",
    "        D += scipy.sparse.csr_matrix ( \n",
    "                        ([(-1)**j]*N, (jth_faces_ix, range(N))), \n",
    "                        shape=(M, N), dtype=np.int8\n",
    "                        )\n",
    "    return D\n",
    "\n",
    "def construct_coboundary(d, r=19):\n",
    "    '''...'''\n",
    "    return construct_boundary(d+1,r).T"
   ]
  },
  {
   "cell_type": "code",
   "execution_count": 4,
   "metadata": {},
   "outputs": [],
   "source": [
    "def construct_weights(d, inverse=False, correlation='TC'):\n",
    "    num_rows = comb(20, d+1, exact=True)\n",
    "    weights = np.zeros((num_rows, 1), dtype=np.float)\n",
    "    for p in patients:\n",
    "        data = import_data(p, d)\n",
    "        weights += data[correlation]\n",
    "    weights /= 164\n",
    "    \n",
    "    if inverse:\n",
    "        weights = np.reciprocal(weights)\n",
    "    \n",
    "    weights = np.reshape(weights, (num_rows,))\n",
    "    \n",
    "    return scipy.sparse.csr_matrix (( \n",
    "                         weights, (range(num_rows), range(num_rows))), \n",
    "                         shape=(num_rows, num_rows), dtype=float\n",
    "                         )"
   ]
  },
  {
   "cell_type": "markdown",
   "metadata": {},
   "source": [
    "## Laplacian\n",
    "\n",
    "$L^{up}_i = W_i^{-1}\\, B_{i+1}\\, W_{i+1}\\, B_i^T$\n",
    "\n",
    "$L^{down}_i = B_{i-1}^T\\, W_{i-1}^{-1}\\, B_i\\, W_i$\n",
    "\n",
    "$L = L^{up} + L^{down}$"
   ]
  },
  {
   "cell_type": "code",
   "execution_count": 5,
   "metadata": {},
   "outputs": [
    {
     "name": "stdout",
     "output_type": "stream",
     "text": [
      " d=3 4845.0 \n",
      " d=4 15504.0 \n",
      " d=5 38760.0\n"
     ]
    }
   ],
   "source": [
    "print(' d=3', comb(20,4),\n",
    "      '\\n d=4', comb(20,5),\n",
    "      '\\n d=5', comb(20,6) )"
   ]
  },
  {
   "cell_type": "code",
   "execution_count": 6,
   "metadata": {},
   "outputs": [],
   "source": [
    "def construct_up_laplacian(d, inverted_weights=False, correlation='TC'):\n",
    "    '''Lu = WIa Bp Wp BTa'''\n",
    "    BTa = construct_coboundary(d)\n",
    "    Wp = construct_weights(d+1, inverse=False^inverted_weights, correlation='TC')\n",
    "    Bp = construct_boundary(d+1)\n",
    "    WIa = construct_weights(d, inverse=True^inverted_weights, correlation='TC')\n",
    "    Lu = np.multiply(WIa, np.multiply(Bp ,np.multiply(Wp, BTa)))\n",
    "    \n",
    "    return Lu\n",
    "\n",
    "def construct_down_laplacian(d, inverted_weights=False, correlation='TC'):\n",
    "    '''Ld = BTm WIm Ba Wa'''\n",
    "    Wa = construct_weights(d, inverse=False^inverted_weights, correlation='TC')\n",
    "    Ba = construct_boundary(d)\n",
    "    WIm = construct_weights(d-1, inverse=True^inverted_weights, correlation='TC')\n",
    "    BTm = construct_coboundary(d-1)\n",
    "    Ld = np.multiply(BTm, np.multiply(WIm, np.multiply(Ba, Wa)))\n",
    "    \n",
    "    return Ld\n",
    "\n",
    "def construct_laplacian(d, inverted_weights=False, correlation='TC'):\n",
    "    '''...'''\n",
    "    Ld = construct_down_laplacian(d, inverted_weights, correlation='TC')\n",
    "    Lu = construct_up_laplacian(d, inverted_weights, correlation='TC')\n",
    "\n",
    "    return Ld + Lu"
   ]
  },
  {
   "cell_type": "markdown",
   "metadata": {},
   "source": [
    "## Main"
   ]
  },
  {
   "cell_type": "code",
   "execution_count": null,
   "metadata": {},
   "outputs": [],
   "source": [
    "patients = [f'00{i}' for i in range(1,10) ] \\\n",
    "         + [f'0{i}' for i in range(10,100)] \\\n",
    "         + [f'{i}' for i in range(100,165)]\n",
    "\n",
    "for correlation in ['TC', 'DTC']:\n",
    "    dual = ''\n",
    "    if correlation == 'DTC':\n",
    "        dual = '_dual'\n",
    "    for inverted_weights in [False, True]:\n",
    "        inv = ''\n",
    "        if inverted_weights:\n",
    "            inv += '_inv'\n",
    "        for d in range(5,6):\n",
    "            # computing matrix of eigenvectors and storing eigenvalues\n",
    "            os.mkdir(f'{d}eigendata{dual}{inv}')\n",
    "            L = construct_laplacian(d, inverted_weights, correlation)\n",
    "            eigens = np.linalg.eig(L.todense())\n",
    "            np.save(f'{d}eigendata{dual}{inv}/eigenvalues.npy', eigens[0])\n",
    "            # decomposing each O-information cochain on the eigenbasis\n",
    "            for patient in patients:    \n",
    "                data = import_data(patient, d)\n",
    "                cochain = data['Oinfo']\n",
    "                x = np.linalg.solve(eigens[1], cochain)\n",
    "                np.save(f'{d}eigendata{dual}{inv}/{d}harmonic{patient}.npy', x) #save"
   ]
  }
 ],
 "metadata": {
  "kernelspec": {
   "display_name": "Python 3",
   "language": "python",
   "name": "python3"
  },
  "language_info": {
   "codemirror_mode": {
    "name": "ipython",
    "version": 3
   },
   "file_extension": ".py",
   "mimetype": "text/x-python",
   "name": "python",
   "nbconvert_exporter": "python",
   "pygments_lexer": "ipython3",
   "version": "3.7.3"
  }
 },
 "nbformat": 4,
 "nbformat_minor": 2
}
