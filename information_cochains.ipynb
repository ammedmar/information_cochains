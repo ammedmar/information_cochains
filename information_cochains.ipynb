{
 "cells": [
  {
   "cell_type": "code",
   "execution_count": null,
   "metadata": {},
   "outputs": [],
   "source": [
    "import numpy as np\n",
    "import scipy.io\n",
    "from itertools import combinations\n",
    "from scipy.special import comb"
   ]
  },
  {
   "cell_type": "code",
   "execution_count": null,
   "metadata": {},
   "outputs": [],
   "source": [
    "def import_data(patient, d=3):\n",
    "    '''...'''\n",
    "    data = scipy.io.loadmat(f'/Users/anibal/Google Drive/Information cochains/O-info/OinfoSinfo/OinfoCopulasN{d+1}/Oinfop{patient}.mat')\n",
    "\n",
    "    del data['__header__']\n",
    "    del data['__version__']\n",
    "    del data['__globals__']\n",
    "\n",
    "    data['TC']  = (data['Sinfo'] + data['Oinfo'])/2\n",
    "    data['DTC'] = (data['Sinfo'] - data['Oinfo'])/2\n",
    "    \n",
    "    return data"
   ]
  },
  {
   "cell_type": "code",
   "execution_count": null,
   "metadata": {},
   "outputs": [],
   "source": [
    "def construct_boundary(d, r=19):\n",
    "    '''...'''\n",
    "    domain_basis = tuple(combinations(range(r+1), d+1))\n",
    "    target_basis = tuple(combinations(range(r+1), d))\n",
    "    target_basis_ix = {tuple(v): index for index, v in enumerate(target_basis)}\n",
    "    N = comb(r+1, d+1, exact=True)\n",
    "    M = comb(r+1, d, exact=True)\n",
    "    D = scipy.sparse.csr_matrix((M, N), dtype=np.int8)\n",
    "    for j in range(d+1):\n",
    "        jth_faces_ix = [\n",
    "                target_basis_ix[tuple(np.concatenate((l[:j], l[j+1:])))]\n",
    "                for l in domain_basis\n",
    "                ]\n",
    "        D += scipy.sparse.csr_matrix ( \n",
    "                        ([(-1)**j]*N, (jth_faces_ix, range(N))), \n",
    "                        shape=(M, N), dtype=np.int8\n",
    "                        )\n",
    "    return D\n",
    "\n",
    "def construct_coboundary(d, r=19):\n",
    "    '''...'''\n",
    "    return construct_boundary(d+1,r).T"
   ]
  },
  {
   "cell_type": "code",
   "execution_count": null,
   "metadata": {},
   "outputs": [],
   "source": [
    "patients = [f'00{i}' for i in range(1,10)] \\\n",
    "         + [f'0{i}' for i in range(10,100)] \\\n",
    "         + [f'{i}' for i in range(100,165)]"
   ]
  },
  {
   "cell_type": "code",
   "execution_count": null,
   "metadata": {},
   "outputs": [],
   "source": [
    "def construct_weights(d, inverse=False):\n",
    "    num_rows = comb(20, d+1, exact=True)\n",
    "    weights = np.zeros((num_rows, 1), dtype=np.float)\n",
    "    for p in patients:\n",
    "        data = import_data(p, d)\n",
    "        weights += data['TC']\n",
    "    weights /= 164\n",
    "    \n",
    "    if inverse:\n",
    "        weights = np.reciprocal(weights)\n",
    "    \n",
    "    weights = np.reshape(weights, (num_rows,))\n",
    "    \n",
    "    return scipy.sparse.csr_matrix (( \n",
    "                         weights, (range(num_rows), range(num_rows))), \n",
    "                         shape=(num_rows, num_rows), dtype=float\n",
    "                         )"
   ]
  },
  {
   "cell_type": "markdown",
   "metadata": {},
   "source": [
    "## Laplacian\n",
    "\n",
    "$L^{up}_i = W_i^{-1}\\, B_{i+1}\\, W_{i+1}\\, B_i^T$\n",
    "\n",
    "$L^{down}_i = B_{i-1}^T\\, W_{i-1}^{-1}\\, B_i\\, W_i$\n",
    "\n",
    "$L = L^{up} + L^{down}$"
   ]
  },
  {
   "cell_type": "code",
   "execution_count": null,
   "metadata": {},
   "outputs": [],
   "source": [
    "print(' d=3', comb(20,4),\n",
    "      '\\n d=4', comb(20,5),\n",
    "      '\\n d=5', comb(20,6) )"
   ]
  },
  {
   "cell_type": "code",
   "execution_count": null,
   "metadata": {},
   "outputs": [],
   "source": [
    "def construct_up_laplacian(d):\n",
    "    BTa = construct_coboundary(d)\n",
    "#     print('BTa', BTa.shape, type(BTa))\n",
    "\n",
    "    Wp = construct_weights(d+1)\n",
    "#     print('Wp', Wp.shape, type(Wp))\n",
    "\n",
    "    Bp = construct_boundary(d+1)\n",
    "#     print('Bp', Bp.shape, type(Bp))\n",
    "\n",
    "    WIa = construct_weights(d, inverse=True)\n",
    "#     print('WIa', WIa.shape, type(WIa))\n",
    "\n",
    "    Lu = np.multiply(WIa, np.multiply(Bp ,np.multiply(Wp, BTa)))\n",
    "#     print('Lu', Lu.shape, type(Lu))\n",
    "    \n",
    "    return Lu\n",
    "\n",
    "def construct_down_laplacian(d):\n",
    "\n",
    "    Wa = construct_weights(d)\n",
    "#     print('Wa', Wa.shape, type(Wa))\n",
    "\n",
    "    Ba = construct_boundary(d)\n",
    "#     print('Ba', Ba.shape, type(Ba))\n",
    "\n",
    "    WIm = construct_weights(d-1, inverse=True)\n",
    "#     print('WIm', WIm.shape, type(WIm))\n",
    "\n",
    "    BTm = construct_coboundary(d-1)\n",
    "#     print('BTm', BTm.shape, type(BTm))\n",
    "\n",
    "    Ld = np.multiply(BTm, np.multiply(WIm ,np.multiply(Ba, Wa)))\n",
    "#     print('Ld', Ld.shape, type(Ld))\n",
    "    \n",
    "    return Ld\n",
    "\n",
    "# Lu = construct_up_laplacian(4)\n",
    "# Ld = construct_down_laplacian(4)"
   ]
  },
  {
   "cell_type": "code",
   "execution_count": null,
   "metadata": {},
   "outputs": [],
   "source": [
    "def construct_laplacian(d, r=19, weights=None):\n",
    "    '''...'''\n",
    "    Ld = construct_down_laplacian(d)\n",
    "    Lu = construct_up_laplacian(d)\n",
    "\n",
    "    return Ld + Lu\n",
    "\n",
    "# L = construct_laplacian(4)"
   ]
  }
 ],
 "metadata": {
  "kernelspec": {
   "display_name": "Python 3",
   "language": "python",
   "name": "python3"
  },
  "language_info": {
   "codemirror_mode": {
    "name": "ipython",
    "version": 3
   },
   "file_extension": ".py",
   "mimetype": "text/x-python",
   "name": "python",
   "nbconvert_exporter": "python",
   "pygments_lexer": "ipython3",
   "version": "3.7.3"
  }
 },
 "nbformat": 4,
 "nbformat_minor": 2
}
