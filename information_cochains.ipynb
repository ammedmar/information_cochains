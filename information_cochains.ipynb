{
 "cells": [
  {
   "cell_type": "code",
   "execution_count": null,
   "metadata": {},
   "outputs": [],
   "source": [
    "import numpy as np\n",
    "import scipy.io\n",
    "from itertools import combinations\n",
    "from scipy.special import comb"
   ]
  },
  {
   "cell_type": "code",
   "execution_count": null,
   "metadata": {},
   "outputs": [],
   "source": [
    "def import_data(patient, N=3):\n",
    "    '''...'''\n",
    "    data = scipy.io.loadmat(f'/Users/anibal/Google Drive/Information cochains/O-info/OinfoSinfo/OinfoCopulasN{N}/Oinfop{patient}.mat')\n",
    "\n",
    "    del data['__header__']\n",
    "    del data['__version__']\n",
    "    del data['__globals__']\n",
    "\n",
    "    data['TC']  = (data['Sinfo'] + data['Oinfo'])/2\n",
    "    data['DTC'] = (data['Sinfo'] - data['Oinfo'])/2\n",
    "    \n",
    "    return data"
   ]
  },
  {
   "cell_type": "code",
   "execution_count": null,
   "metadata": {},
   "outputs": [],
   "source": [
    "def construct_boundary(d, r=19):\n",
    "    '''...'''\n",
    "    domain_basis = tuple(combinations(range(r+1), d+1))\n",
    "    target_basis = tuple(combinations(range(r+1), d))\n",
    "    target_basis_ix = {tuple(v): index for index, v in enumerate(target_basis)}\n",
    "    N = comb(r+1, d+1, exact=True)\n",
    "    M = comb(r+1, d, exact=True)\n",
    "    D = scipy.sparse.csr_matrix((M, N), dtype=np.int8)\n",
    "    for j in range(d+1):\n",
    "        jth_faces_ix = [\n",
    "                target_basis_ix[tuple(np.concatenate((l[:j], l[j+1:])))]\n",
    "                for l in domain_basis\n",
    "                ]\n",
    "        D += scipy.sparse.csr_matrix ( \n",
    "                        ([(-1)**j]*N, (jth_faces_ix, range(N))), \n",
    "                        shape=(M, N), dtype=np.int8\n",
    "                        )\n",
    "    return D\n",
    "\n",
    "def construct_coboundary(d, r=19):\n",
    "    '''...'''\n",
    "    return construct_boundary(d+1,r).T"
   ]
  },
  {
   "cell_type": "code",
   "execution_count": null,
   "metadata": {},
   "outputs": [],
   "source": [
    "import scipy.sparse.linalg\n",
    "\n",
    "def construct_laplacian(d, r=19, weights=None):\n",
    "    '''...'''\n",
    "    B_from = construct_boundary(d,r)\n",
    "    BT_to = construct_coboundary(d-1,r)\n",
    "    L_down = np.multiply(BT_to, B_from).astype(np.float)\n",
    "    B_to = construct_boundary(d+1,r)\n",
    "    BT_from = construct_coboundary(d,r)\n",
    "    L_up = np.multiply(B_to, BT_from).astype(np.float)\n",
    "    return L_down + L_up\n",
    "\n",
    "laplacian = construct_laplacian(2,3)\n",
    "print(laplacian.shape)\n",
    "print(comb(3+1, 2+1, exact=True))\n",
    "eigens = scipy.sparse.linalg.eigs(laplacian, k=laplacian.shape[1]-2)"
   ]
  }
 ],
 "metadata": {
  "kernelspec": {
   "display_name": "Python 3",
   "language": "python",
   "name": "python3"
  },
  "language_info": {
   "codemirror_mode": {
    "name": "ipython",
    "version": 3
   },
   "file_extension": ".py",
   "mimetype": "text/x-python",
   "name": "python",
   "nbconvert_exporter": "python",
   "pygments_lexer": "ipython3",
   "version": "3.7.3"
  }
 },
 "nbformat": 4,
 "nbformat_minor": 2
}
