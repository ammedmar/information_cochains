{
 "cells": [
  {
   "cell_type": "code",
   "execution_count": null,
   "metadata": {},
   "outputs": [],
   "source": [
    "import numpy as np\n",
    "import scipy.io\n",
    "from itertools import combinations, product\n",
    "import pickle as pkl\n",
    "import os\n",
    "import matplotlib.pyplot as plt"
   ]
  },
  {
   "cell_type": "code",
   "execution_count": null,
   "metadata": {},
   "outputs": [],
   "source": [
    "patients = [f'00{i}' for i in range(1,10) ] \\\n",
    "         + [f'0{i}' for i in range(10,100)] \\\n",
    "         + [f'{i}' for i in range(100,165)]"
   ]
  },
  {
   "cell_type": "markdown",
   "metadata": {},
   "source": [
    "#### Data description\n",
    "\n",
    "For each patient, harmonic spectrum of its O-information in dimension 3 and 4 (i.e. collections of 4 or 5 nodes).\n",
    "\n",
    "The O-information is the signal and the weights of the simplices (The shape of the drum) are either given by the total correlation, dual total correlation, their entrywise multiplicative inverses, and the structural connectome.\n",
    "\n",
    "The weighted Laplace matrices are build with costum functions. The diagonalization of this matrices is done using `numpy.linalg.eig` function."
   ]
  },
  {
   "cell_type": "code",
   "execution_count": null,
   "metadata": {},
   "outputs": [],
   "source": [
    "d = 3 # 3 or 4\n",
    "decorator = '_sc' # '', '_inv', '_dual', '_dual_inv', '_sc'\n",
    "eigenvalues = np.load(f'/Users/anibal/github/information_cochains/{d}eigendata{decorator}/eigenvalues.npy')"
   ]
  },
  {
   "cell_type": "code",
   "execution_count": null,
   "metadata": {
    "scrolled": true
   },
   "outputs": [],
   "source": [
    "plt.plot(eigenvalues)\n",
    "plt.show()"
   ]
  },
  {
   "cell_type": "markdown",
   "metadata": {},
   "source": [
    "#### Distinct eigenvalues"
   ]
  },
  {
   "cell_type": "code",
   "execution_count": null,
   "metadata": {},
   "outputs": [],
   "source": [
    "from collections import Counter\n",
    "[v for v in Counter(eigenvalues).values() if v > 1]"
   ]
  },
  {
   "cell_type": "markdown",
   "metadata": {},
   "source": [
    "#### Smallest value\n",
    "\n",
    "When all weights are non-zero the minimum eigenvalue is non-zero"
   ]
  },
  {
   "cell_type": "code",
   "execution_count": null,
   "metadata": {},
   "outputs": [],
   "source": [
    "eigenvalues.min()"
   ]
  },
  {
   "cell_type": "markdown",
   "metadata": {},
   "source": [
    "#### Some patient plots"
   ]
  },
  {
   "cell_type": "code",
   "execution_count": null,
   "metadata": {
    "scrolled": true
   },
   "outputs": [],
   "source": [
    "for p in patients[:3]:\n",
    "    plt.plot(np.load(f'/Users/anibal/github/information_cochains/{d}eigendata{decorator}/{d}harmonic{p}.npy'))\n",
    "    plt.show()"
   ]
  },
  {
   "cell_type": "markdown",
   "metadata": {},
   "source": [
    "#### Weights from structural connectome\n",
    "\n",
    "Simplices are lexicographically ordered"
   ]
  },
  {
   "cell_type": "code",
   "execution_count": null,
   "metadata": {},
   "outputs": [],
   "source": [
    "def construct_edge_weights():\n",
    "    '''...'''\n",
    "    conn = scipy.io.loadmat(f'/Users/anibal/Google Drive/Information cochains/connectome/sc_norm_20rois.mat')\n",
    "    SC = conn['sc'].sum(axis=2) / 161\n",
    "\n",
    "    edge_weights = {}\n",
    "    for i in range(20):\n",
    "        for j in range(i+1,20):\n",
    "            edge_weights[(i+1,j+1)] = SC[i,j]\n",
    "            \n",
    "    return edge_weights\n",
    "\n",
    "def construct_simplex_weights(d, r=20):\n",
    "    '''...'''\n",
    "    edge_weights = construct_edge_weights()\n",
    "\n",
    "    simplex_weights = {}\n",
    "    for simplex in tuple(combinations(range(1,r+1), d+1)):\n",
    "        simplex_weights[simplex] = min(edge_weights[edge] \n",
    "                                        for edge in combinations(simplex,2))\n",
    "\n",
    "    return simplex_weights"
   ]
  },
  {
   "cell_type": "code",
   "execution_count": null,
   "metadata": {},
   "outputs": [],
   "source": [
    "edge_weights = construct_edge_weights()\n",
    "plt.plot(edge_weights.values())\n",
    "plt.ylabel('weight')\n",
    "plt.title('Weights of edges')\n",
    "plt.show()\n",
    "\n",
    "simplex_weights = construct_simplex_weights(d)\n",
    "plt.plot(simplex_weights.values())\n",
    "plt.ylabel('weight')\n",
    "plt.title('Weights of simplices')\n",
    "plt.show()"
   ]
  }
 ],
 "metadata": {
  "kernelspec": {
   "display_name": "Python 3",
   "language": "python",
   "name": "python3"
  },
  "language_info": {
   "codemirror_mode": {
    "name": "ipython",
    "version": 3
   },
   "file_extension": ".py",
   "mimetype": "text/x-python",
   "name": "python",
   "nbconvert_exporter": "python",
   "pygments_lexer": "ipython3",
   "version": "3.7.3"
  }
 },
 "nbformat": 4,
 "nbformat_minor": 2
}
